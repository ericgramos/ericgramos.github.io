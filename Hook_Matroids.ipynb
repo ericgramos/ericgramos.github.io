{
 "cells": [
  {
   "cell_type": "code",
   "execution_count": 34,
   "id": "ffb4a18d",
   "metadata": {},
   "outputs": [],
   "source": [
    "#\"To run this code, either take out all the calls to tqdm or run !pip install tqdm\"\n",
    "\n",
    "from tqdm import tqdm\n",
    "from copy import copy"
   ]
  },
  {
   "cell_type": "code",
   "execution_count": 35,
   "id": "a05323c3",
   "metadata": {},
   "outputs": [],
   "source": [
    "#This code does all the work of producing the Specht matroid from the combinatorics of words.\n",
    "\n",
    "def distinctColumns(w1, w2):\n",
    "    if len(w1) != len(w2): \n",
    "        return False\n",
    "    seen = set()\n",
    "    for i in range(len(w1)):\n",
    "        t = (w1[i], w2[i])\n",
    "        if t in seen: \n",
    "            return False\n",
    "        seen.add(t)\n",
    "    return True\n",
    "\n",
    "def YoungCharacter(w1, w2):\n",
    "    assert distinctColumns(w1, w2)\n",
    "    wp = [(w1[i], w2[i]) for i in range(len(w1))]\n",
    "    def ycfunc(r1, r2):\n",
    "        if not distinctColumns(r1, r2):\n",
    "            return 0\n",
    "        rp = [(r1[i], r2[i]) for i in range(len(w1))]\n",
    "        po = [wp.index(rx) + 1 for rx in rp]\n",
    "        return Permutation(po).sign()\n",
    "    return ycfunc\n",
    "\n",
    "def SpechtMatrix(w1, w2):\n",
    "    Y = YoungCharacter(w1, w2)\n",
    "    rows = [[Y(u, v) for u in Permutations(w1)] for v in Permutations(w2)]\n",
    "        \n",
    "    return matrix(QQ, rows).transpose()\n",
    "\n",
    "def hook_shape(n, k):\n",
    "    return Partition([n-k] + [1]*k)\n",
    "\n",
    "def hook_words(n,k):\n",
    "    w1, w2 = zip(*(hook_shape(n,k).cells()))\n",
    "    return w1, w2\n",
    "\n",
    "def hook_matrix(n,k):\n",
    "    return SpechtMatrix(*hook_words(n,k))\n",
    "\n",
    "def hook_specht_matroid_slow(n,k):\n",
    "    M = SpechtMatrix(*hook_words(n,k))\n",
    "    return Matroid(M)"
   ]
  },
  {
   "cell_type": "code",
   "execution_count": 36,
   "id": "7bc5654d",
   "metadata": {},
   "outputs": [],
   "source": [
    "#This code goes through the matroid constructed above and throws away the negations of any vector. \n",
    "#Doing this shrinks the size of the matrix considerably, making later computations easier.\n",
    "def NarrowerSpechtMatrix(w1, w2):\n",
    "    Y = YoungCharacter(w1, w2)\n",
    "    cols = []\n",
    "    orig_col_num = 0\n",
    "    colConversion = []\n",
    "    for v in tqdm(Permutations(w2)):\n",
    "        new_col = vector([Y(u, v) for u in Permutations(w1)])\n",
    "        if new_col not in cols and -new_col not in cols: # slow but whatever. future things are slower\n",
    "            cols.append(new_col)\n",
    "            colConversion.append(orig_col_num)\n",
    "        orig_col_num += 1\n",
    "    return (matrix(QQ, cols).transpose(),colConversion)"
   ]
  },
  {
   "cell_type": "code",
   "execution_count": 37,
   "id": "e151675c",
   "metadata": {},
   "outputs": [],
   "source": [
    "#Code that constructs the matroids of hooks. Specializes the above.\n",
    "\n",
    "def hook_specht_matrix(n,k):\n",
    "    M,colConversion = NarrowerSpechtMatrix(*hook_words(n,k))\n",
    "    #rref = M.rref()\n",
    "    #rowcount = binomial(n-1, k)\n",
    "    return (M,colConversion) #Matrix(rowcount, M.dimensions()[1], lambda i,j:rref[i,j])\n",
    "   \n",
    "def hook_specht_matroid(n,k):\n",
    "    return Matroid(hook_specht_matrix(n,k)[0])"
   ]
  },
  {
   "cell_type": "code",
   "execution_count": 38,
   "id": "2aa126f3",
   "metadata": {},
   "outputs": [],
   "source": [
    "#The following code will take in a given hook matroid with two boxes below the first row,\n",
    "#and compute all of its codim 1 flats. It does this by starting with all of the hyperplanes of the matroid, and removing\n",
    "#them one-by-one until the dimension goes down by 1. It then repeats by selecting different hyperplanes to remove.\n",
    "\n",
    "def max_rank_flats(n):\n",
    "    target_rank = binomial(n-1,2)-1\n",
    "    M = hook_specht_matroid(n,2)\n",
    "    ground = Set(M.groundset()) \n",
    "    groundsize = len(ground)\n",
    "    work_stack = []\n",
    "    bigflats = []\n",
    "    for S in ground.subsets(groundsize-1):\n",
    "        assert M.rank(S) == target_rank + 1\n",
    "        work_stack.append(S)   \n",
    "    step = 0\n",
    "    while len(work_stack) > 0:\n",
    "        step += 1\n",
    "        if step % 100000 == 0:\n",
    "            print(\"step\", step, \" - Stack size now:\", len(work_stack), \"flats found:\", len(bigflats))\n",
    "        work = work_stack.pop()\n",
    "        biggest_absent_thing = max(ground-work)\n",
    "        for t in range(biggest_absent_thing+1, groundsize):\n",
    "            assert t in work # should work unless I don't know what \"Biggest\" means\n",
    "            S = work.difference(Set([t]))\n",
    "            if M.rank(S) == target_rank:\n",
    "                put_it_back = ground.difference(S)\n",
    "                if all(M.rank(S.union(Set([t]))) == target_rank+1 for t in put_it_back):\n",
    "                    bigflats.append(S)\n",
    "            elif M.rank(S) == target_rank+1:\n",
    "                work_stack.append(S)\n",
    "            else: \n",
    "                print(\"My flat got too small too fast!\")\n",
    "    return bigflats\n",
    "    \n",
    "\n",
    "\n"
   ]
  },
  {
   "cell_type": "code",
   "execution_count": 42,
   "id": "dbd69063",
   "metadata": {},
   "outputs": [
    {
     "name": "stderr",
     "output_type": "stream",
     "text": [
      "100%|██████████| 840/840 [00:00<00:00, 6495.45it/s]\n"
     ]
    }
   ],
   "source": [
    "#This cell is the workhorse of the entire code. The parameter m decides how many boxes we will have in our first row, (m,1,1)\n",
    "\n",
    "\n",
    "m = 7\n",
    "\n",
    "\n",
    "w1, w2 = hook_words(m,2)\n",
    "\n",
    "w2_words = list(Permutations(w2))\n",
    "\n",
    "small, columnConvert = hook_specht_matrix(m,2)\n",
    "smallt = small.transpose()\n",
    "numcolS = len(small[0])\n",
    "\n",
    "def makeSpecial(n): #This creates the table of all special flats\n",
    "    special = {}\n",
    "    \n",
    "    for i in range(n):\n",
    "        for j in range(i):\n",
    "            special[(i,j)] = Set([Set([i,j,k]) for k in range(n) if k != i and k != j])\n",
    "    return special\n",
    "\n",
    "special = makeSpecial(m)\n",
    "            \n",
    "\n",
    "def nonzero_entries(): #This code creates a table of all the zero entries in each column of the sphect matrix. \n",
    "                      #This will allow us to later convert flats easily to their representations as sets of size 3.\n",
    "    table = []\n",
    "    num_rows = len(w2_words[0])\n",
    "    for j in range(numcolS):\n",
    "        table.append(Set([i for i in range(num_rows) if w2_words[columnConvert[j]][i] == 0]))\n",
    "    return table\n",
    "\n",
    "t = nonzero_entries()  "
   ]
  },
  {
   "cell_type": "code",
   "execution_count": 40,
   "id": "a31a0e4b",
   "metadata": {},
   "outputs": [],
   "source": [
    "def sensible_flat_name(F): #Converts a flat represented as a collection of columns in the specht matrix to a set of size 3\n",
    "    return Set([t[i] for i in F])\n",
    "\n",
    "\n",
    "def checkSpecial(n,F): #Checks if a given flat is a stable flat\n",
    "    for (x,y) in special:\n",
    "        if special[(x,y)].issubset(F):\n",
    "            return (True,{x,y})\n",
    "    return (False,{-1,0})\n",
    "\n",
    "def createRandomSample(n,total): #Creates a collection of random subsets of [numCol] of size (m-1)(m-2)/2 - 1 with size total. \n",
    "                        #This will later decide which columns of the Specht matrix to span to construct codimension 1 flats.\n",
    "    dim = (n-1)*(n-2)/2\n",
    "    \n",
    "    if total > binomial(numcolS,dim -1):\n",
    "        total = binomial(numcolS,dim -1)\n",
    "    \n",
    "    ans = set()\n",
    "    while len(ans) < total: \n",
    "        s = set()\n",
    "        while len(s) < dim - 1:\n",
    "            n = ZZ.random_element(0,numcolS)\n",
    "            s.add(n)\n",
    "        ans.add(Set(s))\n",
    "    return ans\n",
    "\n",
    "def extractLines(n,total): #Uses previous function to randomly construct subsets of [numcol], then looks at the associated \n",
    "                            #collections of columns of the specht matrix. Any such collection that spans a codimension 1 flat\n",
    "                            #is recorded, while others are thrown away.\n",
    "    dim = (n-1)*(n-2)/2\n",
    "    S = createRandomSample(n,total)\n",
    "    minLines = []\n",
    "    for s in tqdm(S):\n",
    "        vec = []\n",
    "        for x in s:\n",
    "            vec.append(smallt[x])\n",
    "        minor = Matrix(vec)\n",
    "        if minor.rank() == dim-1:\n",
    "            minLines.append(s)\n",
    "    return minLines\n",
    "\n",
    "def convertToFlat(n,F): #inputs a collection of columns of the specht matrix, and expands it to a flat by finding all other\n",
    "                        #columns which are linearly dependent on the original collection.\n",
    "    dim = (n-1)*(n-2)/2\n",
    "    \n",
    "    tempF = set(F)\n",
    "    \n",
    "    remaining = [i for i in range(numcolS) if i not in tempF]\n",
    "    \n",
    "    for x in remaining:\n",
    "        vec = [smallt[y] for y in tempF]\n",
    "        vec.append(smallt[x])\n",
    "        minor = Matrix(vec)\n",
    "        if minor.rank() == dim-1:\n",
    "            tempF.add(x)\n",
    "    return Set(tempF)\n",
    "\n",
    "\n"
   ]
  },
  {
   "cell_type": "code",
   "execution_count": 47,
   "id": "5ae6ff57",
   "metadata": {
    "scrolled": true
   },
   "outputs": [
    {
     "name": "stderr",
     "output_type": "stream",
     "text": [
      "100%|██████████| 300000/300000 [00:41<00:00, 7206.84it/s]\n",
      "100%|██████████| 74788/74788 [08:50<00:00, 141.00it/s] \n"
     ]
    }
   ],
   "source": [
    "#Looks at 300,000 randomly generated collections of columns, and checks each for the dimension of their span.\n",
    "#Any collection with the correct dimensional span is recorded and converted to a flat.\n",
    "lines = extractLines(m,300000)\n",
    "A = set()\n",
    "for F in tqdm(lines):\n",
    "    A.add(convertToFlat(m,F))    "
   ]
  },
  {
   "cell_type": "code",
   "execution_count": 49,
   "id": "ea8f5918",
   "metadata": {},
   "outputs": [
    {
     "name": "stderr",
     "output_type": "stream",
     "text": [
      "100%|██████████| 4012/4012 [00:00<00:00, 46607.25it/s]\n"
     ]
    }
   ],
   "source": [
    "#Takes the flats from the previous cell, and converts them to flats with the \"right\" name.\n",
    "C = set()\n",
    "for F in tqdm(A):\n",
    "    C.add(sensible_flat_name(F))"
   ]
  },
  {
   "cell_type": "code",
   "execution_count": 51,
   "id": "24aea529",
   "metadata": {},
   "outputs": [
    {
     "name": "stdout",
     "output_type": "stream",
     "text": [
      "size = 23, stable count = 732, unstable count = 0\n",
      "size = 22, stable count = 603, unstable count = 0\n",
      "size = 20, stable count = 244, unstable count = 363\n",
      "size = 18, stable count = 38, unstable count = 182\n",
      "size = 24, stable count = 420, unstable count = 0\n",
      "size = 16, stable count = 0, unstable count = 19\n",
      "size = 19, stable count = 231, unstable count = 0\n",
      "size = 21, stable count = 634, unstable count = 256\n",
      "size = 26, stable count = 70, unstable count = 0\n",
      "size = 27, stable count = 105, unstable count = 0\n",
      "size = 17, stable count = 0, unstable count = 87\n",
      "size = 30, stable count = 21, unstable count = 0\n",
      "size = 15, stable count = 0, unstable count = 7\n"
     ]
    }
   ],
   "source": [
    "#print out the number of flats of each size found, along with the number of those flats that are stable and unstable\n",
    "\n",
    "stablecount = dict()\n",
    "unstablecount = dict()\n",
    "\n",
    "for F in C:\n",
    "    stablecount[len(F)] = 0\n",
    "    unstablecount[len(F)] = 0\n",
    "    \n",
    "for F in C:\n",
    "    if checkSpecial(m,F)[0]:\n",
    "        stablecount[len(F)] += 1\n",
    "    else:\n",
    "        unstablecount[len(F)] +=1\n",
    "\n",
    "for x in stablecount:\n",
    "    print(\"size = {}, stable count = {}, unstable count = {}\".format(x,stablecount[x],unstablecount[x]))\n",
    "        \n",
    "        \n",
    "    "
   ]
  },
  {
   "cell_type": "code",
   "execution_count": 46,
   "id": "eb12470b",
   "metadata": {},
   "outputs": [
    {
     "name": "stdout",
     "output_type": "stream",
     "text": [
      "Generating first samples and collating\n"
     ]
    },
    {
     "name": "stderr",
     "output_type": "stream",
     "text": [
      "100%|██████████| 5000000/5000000 [14:07<00:00, 5896.37it/s] \n",
      "100%|██████████| 1248006/1248006 [5:54:51<00:00, 58.61it/s]    \n"
     ]
    },
    {
     "name": "stdout",
     "output_type": "stream",
     "text": [
      "Generating second samples and collating\n"
     ]
    },
    {
     "name": "stderr",
     "output_type": "stream",
     "text": [
      "100%|██████████| 5000000/5000000 [14:07<00:00, 5897.34it/s]\n",
      "100%|██████████| 1248514/1248514 [6:04:05<00:00, 57.15it/s]    \n"
     ]
    },
    {
     "name": "stdout",
     "output_type": "stream",
     "text": [
      "Approximate counting\n",
      "size 14 - unknown - no overlap between samples. a=6,b=11\n",
      "size 15 - 28026.0 by approximate counting. a = 162, b = 173, c = 1]\n",
      "size 16 - 19172.222222222223 by approximate counting. a = 406, b = 425, c = 9]\n",
      "size 17 - 12678.737967914438 by approximate counting. a = 1566, b = 1514, c = 187]\n",
      "size 18 - 8486.638554216868 by approximate counting. a = 3195, b = 3307, c = 1245]\n",
      "size 19 - 2527.9370078740158 by approximate counting. a = 2028, b = 2058, c = 1651]\n",
      "size 20 - 2517.485294117647 by approximate counting. a = 2484, b = 2481, c = 2448]\n",
      "size 21 - 1620.0 by approximate counting. a = 1620, b = 1620, c = 1620]\n",
      "size 22 - 630.0 by approximate counting. a = 630, b = 630, c = 630]\n",
      "size 23 - 735.0 by approximate counting. a = 735, b = 735, c = 735]\n",
      "size 24 - 420.0 by approximate counting. a = 420, b = 420, c = 420]\n",
      "size 26 - 70.0 by approximate counting. a = 70, b = 70, c = 70]\n",
      "size 27 - 105.0 by approximate counting. a = 105, b = 105, c = 105]\n",
      "size 30 - 21.0 by approximate counting. a = 21, b = 21, c = 21]\n"
     ]
    }
   ],
   "source": [
    "# randomly generate some lines in specht matroid, collated by flat size\n",
    "from collections import defaultdict\n",
    "def line_collate(m, trials):\n",
    "    lines = extractLines(m,trials)\n",
    "    C = set()\n",
    "    for F in tqdm(lines):\n",
    "        C.add(convertToFlat(m,F))\n",
    "\n",
    "    flat_counts = defaultdict(set)\n",
    "    for flat in C:\n",
    "        flat_counts[len(flat)].add(flat)\n",
    "    return flat_counts\n",
    "\n",
    "#approximates the number of lines of each size by running the previous function twice, and looking at how much\n",
    "#overlap occurs.\n",
    "\n",
    "def approx_line_count(m, trials):\n",
    "    print(\"Generating first samples and collating\")\n",
    "    tag = line_collate(m, trials)\n",
    "    print(\"Generating second samples and collating\")\n",
    "    recapture = line_collate(m, trials)\n",
    "    print(\"Approximate counting\")\n",
    "\n",
    "    valid_sizes = set(tag.keys()).union(set(recapture.keys()))\n",
    "    for size in valid_sizes:\n",
    "        tag_sample = tag[size]\n",
    "        recapture_sample = recapture[size]\n",
    "        overlap = tag_sample.intersection(recapture_sample)\n",
    "\n",
    "        a,b,c = len(tag_sample), len(recapture_sample), len(overlap)\n",
    "        if a==0 and b != 0:\n",
    "            approx_count = str(\"b={} (no first sample)\".format(b))\n",
    "        elif b==0 and a != 0:\n",
    "            approx_count = str(\"a={} (no second sample)\".format(a))\n",
    "        elif c==0:\n",
    "            approx_count = str(\"unknown - no overlap between samples. a={},b={}\".format(a,b))\n",
    "        else:\n",
    "            approx_count = str(\"{} by approximate counting. a = {}, b = {}, c = {}]\".format(a*b/c,a,b,c))\n",
    "        print(\"size {} - {}\".format(size, approx_count))\n",
    "\n",
    "\n",
    "approx_line_count(7, 5000000)"
   ]
  },
  {
   "cell_type": "code",
   "execution_count": null,
   "id": "cfd445a5",
   "metadata": {},
   "outputs": [],
   "source": []
  }
 ],
 "metadata": {
  "kernelspec": {
   "display_name": "SageMath 10.2",
   "language": "sage",
   "name": "sagemath"
  },
  "language_info": {
   "codemirror_mode": {
    "name": "ipython",
    "version": 3
   },
   "file_extension": ".py",
   "mimetype": "text/x-python",
   "name": "python",
   "nbconvert_exporter": "python",
   "pygments_lexer": "ipython3",
   "version": "3.11.1"
  }
 },
 "nbformat": 4,
 "nbformat_minor": 5
}
